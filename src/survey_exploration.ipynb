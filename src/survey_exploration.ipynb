{
 "cells": [
  {
   "cell_type": "markdown",
   "metadata": {},
   "source": [
    "## Planning\n",
    "# Key Objectives:\n",
    "1. Clean the data\n",
    "2. Complete features selection\n",
    "3. Generate exploratory plots using matplotlib\n",
    "4. Generate interactive plots using plotly"
   ]
  },
  {
   "cell_type": "code",
   "execution_count": 98,
   "metadata": {},
   "outputs": [],
   "source": [
    "import pandas as pd\n",
    "import numpy as np\n",
    "import seaborn\n",
    "import matplotlib.pyplot as plt\n",
    "from pathlib import Path\n",
    "from typing import List, Dict\n",
    "\n",
    "plt.style.use(\"ggplot\")\n",
    "\n",
    "CWD = Path.cwd()\n",
    "DATA_DIR: Path = CWD.parent / \"data\"\n",
    "SURVEY_PATH: Path = DATA_DIR / \"survey_results_public.csv\"\n",
    "SURVEY_SCHEMA: Path = DATA_DIR / \"survey_results_schema_dropcols.csv\""
   ]
  },
  {
   "cell_type": "code",
   "execution_count": 45,
   "metadata": {},
   "outputs": [],
   "source": [
    "survey_raw: pd.DataFrame = pd.read_csv(SURVEY_PATH)\n",
    "survey_schema: pd.DataFrame = pd.read_csv(SURVEY_SCHEMA)"
   ]
  },
  {
   "cell_type": "code",
   "execution_count": 50,
   "metadata": {},
   "outputs": [],
   "source": [
    "def get_column_variants(list1: list, list2: list) -> list:\n",
    "    return [x for x in list1 if any(y in x and x!=y for y in list2)]\n",
    "\n",
    "\n",
    "def generate_drop_colnames(stem: str) -> List[str]:\n",
    "    return stem + \"WantToWorkWith\", stem + \"Admired\"\n",
    "\n",
    "\n",
    "def drop_unwanted_cols(df: pd.DataFrame) -> pd.DataFrame:\n",
    "    \"\"\"\n",
    "    Drop columns using survey schema \"drop\" column (created manually).\n",
    "    Additional manual correction was required because some columns didn't map\n",
    "    / new columns were added compared to the reported schema.\n",
    "    \"\"\"\n",
    "    dropcols = (\n",
    "        survey_schema\n",
    "        .loc[survey_schema[\"drop\"] == 1, \"qname\"]\n",
    "        .to_list()\n",
    "    )\n",
    "    df_columns = df.columns.to_list()  # survey columns don't match schema\n",
    "    unmatched_colums = list(set(dropcols) - set(df_columns))\n",
    "    matched_dropcols = [elem for elem in dropcols if elem not in unmatched_colums]\n",
    "    cols_to_drop_new = get_column_variants(list1=df_columns, list2=dropcols)\n",
    "    dropcols = matched_dropcols + cols_to_drop_new\n",
    "    missed_cols = [\n",
    "        \"Language\", \"Database\", \"Platform\",\n",
    "        \"Webframe\", \"Embedded\", \"MiscTech\",\n",
    "        \"ToolsTech\", \"NEWCollabTools\", \"OfficeStackAsync\"\n",
    "    ]\n",
    "    dropcols += [x for stem in missed_cols for x in generate_drop_colnames(stem)]\n",
    "    result = df.drop(columns=dropcols, axis=1, inplace=False)\n",
    "    return result"
   ]
  },
  {
   "cell_type": "code",
   "execution_count": 72,
   "metadata": {},
   "outputs": [
    {
     "name": "stdout",
     "output_type": "stream",
     "text": [
      "Index(['ResponseId', 'MainBranch', 'Age', 'Employment', 'RemoteWork', 'Check',\n",
      "       'EdLevel', 'YearsCode', 'YearsCodePro', 'DevType', 'OrgSize', 'Country',\n",
      "       'Currency', 'CompTotal', 'LanguageHaveWorkedWith',\n",
      "       'DatabaseHaveWorkedWith', 'PlatformHaveWorkedWith',\n",
      "       'WebframeHaveWorkedWith', 'EmbeddedHaveWorkedWith',\n",
      "       'MiscTechHaveWorkedWith', 'ToolsTechHaveWorkedWith',\n",
      "       'NEWCollabToolsHaveWorkedWith', 'OpSysPersonal use',\n",
      "       'OpSysProfessional use', 'OfficeStackAsyncHaveWorkedWith', 'ICorPM',\n",
      "       'WorkExp', 'Industry', 'ConvertedCompYearly', 'JobSat'],\n",
      "      dtype='object')\n"
     ]
    }
   ],
   "source": [
    "df = drop_unwanted_cols(survey_raw)\n",
    "print(df.columns)"
   ]
  },
  {
   "cell_type": "code",
   "execution_count": 76,
   "metadata": {},
   "outputs": [],
   "source": [
    "from sklearn.pipeline import Pipeline\n",
    "from sklearn.preprocessing import StandardScaler, OneHotEncoder, OrdinalEncoder\n",
    "from sklearn.compose import ColumnTransformer"
   ]
  },
  {
   "cell_type": "code",
   "execution_count": 105,
   "metadata": {},
   "outputs": [
    {
     "name": "stdout",
     "output_type": "stream",
     "text": [
      "[array(['I am a developer by profession', 'I am learning to code',\n",
      "       'I am not primarily a developer, but I write code sometimes as part of my work/studies',\n",
      "       'I code primarily as a hobby',\n",
      "       'I used to be a developer by profession, but no longer am'],\n",
      "      dtype=object)]\n"
     ]
    },
    {
     "data": {
      "image/png": "[encoded data removed]",
      "text/plain": [
       "<Figure size 640x480 with 1 Axes>"
      ]
     },
     "metadata": {},
     "output_type": "display_data"
    }
   ],
   "source": [
    "def plot_mainbranch(df: pd.DataFrame) -> None:\n",
    "    ordinal_encoder = OrdinalEncoder()\n",
    "    mainbranch_ordinal = (\n",
    "        ordinal_encoder\n",
    "        .fit_transform(df[\"MainBranch\"]\n",
    "                       .to_numpy()\n",
    "                       .reshape(-1, 1))\n",
    "    )\n",
    "    categories_nums, categories_count = np.unique(mainbranch_ordinal, return_counts=True)\n",
    "    print(ordinal_encoder.categories_)\n",
    "    plt.bar(\n",
    "        x=categories_nums,\n",
    "        height=categories_count,\n",
    "    )\n",
    "    plt.xlabel(\"Response (ordinal)\")\n",
    "    plt.ylabel(\"Count\")\n",
    "    plt.show()\n",
    "\n",
    "plot_mainbranch(df)"
   ]
  },
  {
   "cell_type": "code",
   "execution_count": 108,
   "metadata": {},
   "outputs": [],
   "source": [
    "# df.Employment.unique()"
   ]
  },
  {
   "cell_type": "code",
   "execution_count": null,
   "metadata": {},
   "outputs": [
    {
     "name": "stdout",
     "output_type": "stream",
     "text": [
      "<class 'pandas.core.frame.DataFrame'>\n",
      "Index: 23435 entries, 72 to 41187\n",
      "Data columns (total 30 columns):\n",
      " #   Column                          Non-Null Count  Dtype  \n",
      "---  ------                          --------------  -----  \n",
      " 0   ResponseId                      23435 non-null  int64  \n",
      " 1   MainBranch                      23435 non-null  object \n",
      " 2   Age                             23435 non-null  object \n",
      " 3   Employment                      23435 non-null  object \n",
      " 4   RemoteWork                      23427 non-null  object \n",
      " 5   Check                           23435 non-null  object \n",
      " 6   EdLevel                         23435 non-null  object \n",
      " 7   YearsCode                       23388 non-null  object \n",
      " 8   YearsCodePro                    23345 non-null  object \n",
      " 9   DevType                         23403 non-null  object \n",
      " 10  OrgSize                         23410 non-null  object \n",
      " 11  Country                         23435 non-null  object \n",
      " 12  Currency                        23435 non-null  object \n",
      " 13  CompTotal                       23435 non-null  float64\n",
      " 14  LanguageHaveWorkedWith          23352 non-null  object \n",
      " 15  DatabaseHaveWorkedWith          20487 non-null  object \n",
      " 16  PlatformHaveWorkedWith          17881 non-null  object \n",
      " 17  WebframeHaveWorkedWith          18435 non-null  object \n",
      " 18  EmbeddedHaveWorkedWith          8092 non-null   object \n",
      " 19  MiscTechHaveWorkedWith          15997 non-null  object \n",
      " 20  ToolsTechHaveWorkedWith         21502 non-null  object \n",
      " 21  NEWCollabToolsHaveWorkedWith    23165 non-null  object \n",
      " 22  OpSysPersonal use               23200 non-null  object \n",
      " 23  OpSysProfessional use           22023 non-null  object \n",
      " 24  OfficeStackAsyncHaveWorkedWith  20902 non-null  object \n",
      " 25  ICorPM                          16156 non-null  object \n",
      " 26  WorkExp                         16144 non-null  float64\n",
      " 27  Industry                        15976 non-null  object \n",
      " 28  ConvertedCompYearly             23435 non-null  float64\n",
      " 29  JobSat                          16075 non-null  float64\n",
      "dtypes: float64(4), int64(1), object(25)\n",
      "memory usage: 5.5+ MB\n"
     ]
    },
    {
     "data": {
      "text/plain": [
       "None"
      ]
     },
     "metadata": {},
     "output_type": "display_data"
    },
    {
     "name": "stdout",
     "output_type": "stream",
     "text": [
      "<class 'pandas.core.frame.DataFrame'>\n",
      "Index: 23435 entries, 72 to 41187\n",
      "Data columns (total 30 columns):\n",
      " #   Column                          Non-Null Count  Dtype  \n",
      "---  ------                          --------------  -----  \n",
      " 0   ResponseId                      23435 non-null  int64  \n",
      " 1   MainBranch                      23435 non-null  object \n",
      " 2   Age                             23435 non-null  object \n",
      " 3   Employment                      23435 non-null  object \n",
      " 4   RemoteWork                      23427 non-null  object \n",
      " 5   Check                           23435 non-null  object \n",
      " 6   EdLevel                         23435 non-null  object \n",
      " 7   YearsCode                       23388 non-null  object \n",
      " 8   YearsCodePro                    23345 non-null  object \n",
      " 9   DevType                         23403 non-null  object \n",
      " 10  OrgSize                         23410 non-null  object \n",
      " 11  Country                         23435 non-null  object \n",
      " 12  Currency                        23435 non-null  object \n",
      " 13  CompTotal                       23435 non-null  float64\n",
      " 14  LanguageHaveWorkedWith          23352 non-null  object \n",
      " 15  DatabaseHaveWorkedWith          20487 non-null  object \n",
      " 16  PlatformHaveWorkedWith          17881 non-null  object \n",
      " 17  WebframeHaveWorkedWith          18435 non-null  object \n",
      " 18  EmbeddedHaveWorkedWith          8092 non-null   object \n",
      " 19  MiscTechHaveWorkedWith          15997 non-null  object \n",
      " 20  ToolsTechHaveWorkedWith         21502 non-null  object \n",
      " 21  NEWCollabToolsHaveWorkedWith    23165 non-null  object \n",
      " 22  OpSysPersonal use               23200 non-null  object \n",
      " 23  OpSysProfessional use           22023 non-null  object \n",
      " 24  OfficeStackAsyncHaveWorkedWith  20902 non-null  object \n",
      " 25  ICorPM                          16156 non-null  object \n",
      " 26  WorkExp                         16144 non-null  float64\n",
      " 27  Industry                        15976 non-null  object \n",
      " 28  ConvertedCompYearly             23435 non-null  float64\n",
      " 29  JobSat                          16075 non-null  float64\n",
      "dtypes: float64(4), int64(1), object(25)\n",
      "memory usage: 5.5+ MB\n"
     ]
    },
    {
     "data": {
      "text/plain": [
       "None"
      ]
     },
     "metadata": {},
     "output_type": "display_data"
    }
   ],
   "source": [
    "# Clean and filter the data\n",
    "# Drop rows where any of the following columns are null\n",
    "df_salary = df.dropna(subset=[\"ConvertedCompYearly\"])\n",
    "filter_values: dict = {\n",
    "    \"Check\": [\"Apples\"],\n",
    "    \"MainBranch\": [\"I am a developer by profession\"],\n",
    "    \"Employment\": [\"Employed, full time\"],\n",
    "}\n",
    "df_salary = df_salary[df_salary[\"Check\"] == \"Apples\"]\n",
    "df_salary = df_salary.drop([\n",
    "    \"Age\", \"Employment\", \"OrgSize\", \"RemoteWork\", \"Check\", \"EdLevel\",\n",
    "    \"YearsCode\"\n",
    "])\n",
    "display(df_salary.info())"
   ]
  },
  {
   "cell_type": "code",
   "execution_count": null,
   "metadata": {},
   "outputs": [],
   "source": [
    "# Drop columns to only skill columns relevant to salary\n",
    "# df_salary.info()\n",
    "df_salary.describe()\n",
    "# df_salary[[\"ConvertedCompYearly\", \"CompTotal\", \"Currency\", \"Country\"]]"
   ]
  }
 ],
 "metadata": {
  "kernelspec": {
   "display_name": ".venv",
   "language": "python",
   "name": "python3"
  },
  "language_info": {
   "codemirror_mode": {
    "name": "ipython",
    "version": 3
   },
   "file_extension": ".py",
   "mimetype": "text/x-python",
   "name": "python",
   "nbconvert_exporter": "python",
   "pygments_lexer": "ipython3",
   "version": "3.10.12"
  }
 },
 "nbformat": 4,
 "nbformat_minor": 2
}
