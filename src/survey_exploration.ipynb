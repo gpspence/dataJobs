{
 "cells": [
  {
   "cell_type": "markdown",
   "metadata": {},
   "source": [
    "## Planning\n",
    "# Key Objectives:\n",
    "1. Clean the data\n",
    "2. Complete features selection\n",
    "3. Generate exploratory plots using matplotlib\n",
    "4. Generate interactive plots using plotly"
   ]
  },
  {
   "cell_type": "markdown",
   "metadata": {},
   "source": [
    "### Imports and Setup"
   ]
  },
  {
   "cell_type": "code",
   "execution_count": 2,
   "metadata": {},
   "outputs": [],
   "source": [
    "import pandas as pd\n",
    "import numpy as np\n",
    "import seaborn\n",
    "import matplotlib.pyplot as plt\n",
    "from pathlib import Path\n",
    "from typing import List, Dict\n",
    "\n",
    "plt.style.use(\"ggplot\")\n",
    "\n",
    "CWD = Path.cwd()\n",
    "DATA_DIR: Path = CWD.parent / \"data\"\n",
    "SURVEY_PATH: Path = DATA_DIR / \"survey_results_public.csv\"\n",
    "SURVEY_SCHEMA: Path = DATA_DIR / \"survey_results_schema_dropcols.csv\""
   ]
  },
  {
   "cell_type": "code",
   "execution_count": 3,
   "metadata": {},
   "outputs": [],
   "source": [
    "survey_raw: pd.DataFrame = pd.read_csv(SURVEY_PATH)\n",
    "survey_schema: pd.DataFrame = pd.read_csv(SURVEY_SCHEMA)"
   ]
  },
  {
   "cell_type": "markdown",
   "metadata": {},
   "source": [
    "### Preprocessing"
   ]
  },
  {
   "cell_type": "code",
   "execution_count": 4,
   "metadata": {},
   "outputs": [],
   "source": [
    "def get_column_variants(list1: list, list2: list) -> list:\n",
    "    return [x for x in list1 if any(y in x and x!=y for y in list2)]\n",
    "\n",
    "\n",
    "def generate_drop_colnames(stem: str) -> List[str]:\n",
    "    return stem + \"WantToWorkWith\", stem + \"Admired\"\n",
    "\n",
    "\n",
    "def drop_unwanted_cols(df: pd.DataFrame) -> pd.DataFrame:\n",
    "    \"\"\"\n",
    "    Drop columns using survey schema \"drop\" column (created manually).\n",
    "    Additional manual correction was required because some columns didn't map\n",
    "    / new columns were added compared to the reported schema.\n",
    "    \"\"\"\n",
    "    dropcols = (\n",
    "        survey_schema\n",
    "        .loc[survey_schema[\"drop\"] == 1, \"qname\"]\n",
    "        .to_list()\n",
    "    )\n",
    "    df_columns = df.columns.to_list()  # survey columns don't match schema\n",
    "    unmatched_colums = list(set(dropcols) - set(df_columns))\n",
    "    matched_dropcols = [elem for elem in dropcols if elem not in unmatched_colums]\n",
    "    cols_to_drop_new = get_column_variants(list1=df_columns, list2=dropcols)\n",
    "    dropcols = matched_dropcols + cols_to_drop_new\n",
    "    missed_cols = [\n",
    "        \"Language\", \"Database\", \"Platform\",\n",
    "        \"Webframe\", \"Embedded\", \"MiscTech\",\n",
    "        \"ToolsTech\", \"NEWCollabTools\", \"OfficeStackAsync\"\n",
    "    ]\n",
    "    dropcols += [x for stem in missed_cols for x in generate_drop_colnames(stem)]\n",
    "    result = df.drop(columns=dropcols, axis=1, inplace=False)\n",
    "    return result"
   ]
  },
  {
   "cell_type": "code",
   "execution_count": 5,
   "metadata": {},
   "outputs": [],
   "source": [
    "# Apply schema to drop columns\n",
    "df = drop_unwanted_cols(survey_raw)"
   ]
  },
  {
   "cell_type": "code",
   "execution_count": 6,
   "metadata": {},
   "outputs": [
    {
     "data": {
      "text/plain": [
       "Employment\n",
       "Employed, full-time                                                                                                                                          39041\n",
       "Independent contractor, freelancer, or self-employed                                                                                                          4846\n",
       "Student, full-time                                                                                                                                            4709\n",
       "Employed, full-time;Independent contractor, freelancer, or self-employed                                                                                      3557\n",
       "Not employed, but looking for work                                                                                                                            2341\n",
       "                                                                                                                                                             ...  \n",
       "Student, full-time;Not employed, but looking for work;Independent contractor, freelancer, or self-employed;Not employed, and not looking for work                1\n",
       "Student, full-time;Not employed, but looking for work;Retired                                                                                                    1\n",
       "Student, full-time;Not employed, but looking for work;Not employed, and not looking for work;Student, part-time                                                  1\n",
       "Student, full-time;Not employed, but looking for work;Independent contractor, freelancer, or self-employed;Student, part-time;Employed, part-time;Retired        1\n",
       "Student, full-time;Retired                                                                                                                                       1\n",
       "Length: 110, dtype: int64"
      ]
     },
     "execution_count": 6,
     "metadata": {},
     "output_type": "execute_result"
    }
   ],
   "source": [
    "# Used for a quick look at distribution of categorical cols\n",
    "df.groupby([\"Employment\"]).size().sort_values(ascending=False)"
   ]
  },
  {
   "cell_type": "code",
   "execution_count": 7,
   "metadata": {},
   "outputs": [
    {
     "name": "stdout",
     "output_type": "stream",
     "text": [
      "Index(['LanguageHaveWorkedWith', 'DatabaseHaveWorkedWith',\n",
      "       'PlatformHaveWorkedWith', 'WebframeHaveWorkedWith',\n",
      "       'EmbeddedHaveWorkedWith', 'MiscTechHaveWorkedWith',\n",
      "       'ToolsTechHaveWorkedWith', 'NEWCollabToolsHaveWorkedWith',\n",
      "       'OpSysProfessional use', 'OfficeStackAsyncHaveWorkedWith',\n",
      "       'ConvertedCompYearly', 'JobSat'],\n",
      "      dtype='object')\n"
     ]
    }
   ],
   "source": [
    "# Clean and filter the data\n",
    "# Drop rows where any of the following columns are null\n",
    "df = drop_unwanted_cols(survey_raw)\n",
    "salary = df.dropna(subset=[\"ConvertedCompYearly\"])\n",
    "filter_values: dict = {\n",
    "    \"Check\": [\"Apples\"],\n",
    "    \"MainBranch\": [\"I am a developer by profession\"],\n",
    "    \"Employment\": [\"Employed, full-time\"],\n",
    "    # May want to reconsider DevType filtering - reduces from ~10k to 500 vals\n",
    "    \"DevType\": [\n",
    "        \"Data or business analyst\",\n",
    "        \"Data scientist or machine learning specialist\",\n",
    "        \"Data or business analyst\",\n",
    "        \"Developer, AI\"\n",
    "        ]\n",
    "}\n",
    "for k,v in filter_values.items():\n",
    "    salary = salary[salary[k].isin(v)]\n",
    "salary = salary.drop([\n",
    "    \"Age\", \"Employment\", \"OrgSize\", \"RemoteWork\", \"Check\", \"EdLevel\",\n",
    "    \"YearsCode\", \"Country\", \"Currency\", \"CompTotal\", \"OpSysPersonal use\",\n",
    "    \"ICorPM\", \"WorkExp\", \"Industry\", \"YearsCodePro\", \"MainBranch\", \n",
    "    \"ResponseId\", \"DevType\"\n",
    "], axis=1)\n",
    "\n",
    "print(salary.columns)"
   ]
  },
  {
   "cell_type": "code",
   "execution_count": 8,
   "metadata": {},
   "outputs": [
    {
     "ename": "NameError",
     "evalue": "name 'OrdinalEncoder' is not defined",
     "output_type": "error",
     "traceback": [
      "\u001b[0;31m---------------------------------------------------------------------------\u001b[0m",
      "\u001b[0;31mNameError\u001b[0m                                 Traceback (most recent call last)",
      "Cell \u001b[0;32mIn[8], line 19\u001b[0m\n\u001b[1;32m     16\u001b[0m     plt\u001b[38;5;241m.\u001b[39mylabel(\u001b[38;5;124m\"\u001b[39m\u001b[38;5;124mCount\u001b[39m\u001b[38;5;124m\"\u001b[39m)\n\u001b[1;32m     17\u001b[0m     plt\u001b[38;5;241m.\u001b[39mshow()\n\u001b[0;32m---> 19\u001b[0m \u001b[43mplot_mainbranch\u001b[49m\u001b[43m(\u001b[49m\u001b[43mdf\u001b[49m\u001b[43m)\u001b[49m\n",
      "Cell \u001b[0;32mIn[8], line 2\u001b[0m, in \u001b[0;36mplot_mainbranch\u001b[0;34m(df)\u001b[0m\n\u001b[1;32m      1\u001b[0m \u001b[38;5;28;01mdef\u001b[39;00m\u001b[38;5;250m \u001b[39m\u001b[38;5;21mplot_mainbranch\u001b[39m(df: pd\u001b[38;5;241m.\u001b[39mDataFrame) \u001b[38;5;241m-\u001b[39m\u001b[38;5;241m>\u001b[39m \u001b[38;5;28;01mNone\u001b[39;00m:\n\u001b[0;32m----> 2\u001b[0m     ordinal_encoder \u001b[38;5;241m=\u001b[39m \u001b[43mOrdinalEncoder\u001b[49m()\n\u001b[1;32m      3\u001b[0m     mainbranch_ordinal \u001b[38;5;241m=\u001b[39m (\n\u001b[1;32m      4\u001b[0m         ordinal_encoder\n\u001b[1;32m      5\u001b[0m         \u001b[38;5;241m.\u001b[39mfit_transform(df[\u001b[38;5;124m\"\u001b[39m\u001b[38;5;124mMainBranch\u001b[39m\u001b[38;5;124m\"\u001b[39m]\n\u001b[1;32m      6\u001b[0m                        \u001b[38;5;241m.\u001b[39mto_numpy()\n\u001b[1;32m      7\u001b[0m                        \u001b[38;5;241m.\u001b[39mreshape(\u001b[38;5;241m-\u001b[39m\u001b[38;5;241m1\u001b[39m, \u001b[38;5;241m1\u001b[39m))\n\u001b[1;32m      8\u001b[0m     )\n\u001b[1;32m      9\u001b[0m     categories_nums, categories_count \u001b[38;5;241m=\u001b[39m np\u001b[38;5;241m.\u001b[39munique(mainbranch_ordinal, return_counts\u001b[38;5;241m=\u001b[39m\u001b[38;5;28;01mTrue\u001b[39;00m)\n",
      "\u001b[0;31mNameError\u001b[0m: name 'OrdinalEncoder' is not defined"
     ]
    }
   ],
   "source": [
    "def plot_mainbranch(df: pd.DataFrame) -> None:\n",
    "    ordinal_encoder = OrdinalEncoder()\n",
    "    mainbranch_ordinal = (\n",
    "        ordinal_encoder\n",
    "        .fit_transform(df[\"MainBranch\"]\n",
    "                       .to_numpy()\n",
    "                       .reshape(-1, 1))\n",
    "    )\n",
    "    categories_nums, categories_count = np.unique(mainbranch_ordinal, return_counts=True)\n",
    "    print(ordinal_encoder.categories_)\n",
    "    plt.bar(\n",
    "        x=categories_nums,\n",
    "        height=categories_count,\n",
    "    )\n",
    "    plt.xlabel(\"Response (ordinal)\")\n",
    "    plt.ylabel(\"Count\")\n",
    "    plt.show()\n",
    "\n",
    "plot_mainbranch(df)"
   ]
  },
  {
   "cell_type": "markdown",
   "metadata": {},
   "source": [
    "### Cleaning with Pipelines"
   ]
  },
  {
   "cell_type": "code",
   "execution_count": null,
   "metadata": {},
   "outputs": [],
   "source": [
    "from sklearn.pipeline import Pipeline\n",
    "from sklearn.preprocessing import StandardScaler, OneHotEncoder, OrdinalEncoder\n",
    "from sklearn.compose import ColumnTransformer\n",
    "from sklearn.model_selection import train_test_split"
   ]
  },
  {
   "cell_type": "code",
   "execution_count": 18,
   "metadata": {},
   "outputs": [],
   "source": [
    "def multi_hot_encode(df: pd.DataFrame, column: str) -> pd.DataFrame:\n",
    "    return df[column].str.get_dummies(sep=';')"
   ]
  },
  {
   "cell_type": "code",
   "execution_count": null,
   "metadata": {},
   "outputs": [],
   "source": [
    "# TODO: decide how to fill nulls, develop ColumnTransformer\n",
    "# Fit linear regression model, random forest regressor, Shapely additive explanations\n",
    "# Consider mixed effects models\n",
    "X = salary.drop(columns=['ConvertedCompYearly', \"JobSat\"])  # Drop labels\n",
    "y = salary[[\"ConvertedCompYearly\", \"JobSat\"]]  # Target variable(s)\n",
    "X_train, X_test, y_train,y_test = train_test_split(X, y, test_size=0.2, random_state=42)\n",
    "y1_train = y_train.iloc[:, 0]  # ConvertedCompYearly\n",
    "y1_test = y_train.iloc[:, 0]\n",
    "y2_train = y_train.iloc[:, 1]  # JobSat\n",
    "y2_test = y_train.iloc[:, 1]\n",
    "num_attribs = [\"ConvertedCompYearly\", \"JobSat\"]\n",
    "cat_attribs = list(X)"
   ]
  },
  {
   "cell_type": "code",
   "execution_count": null,
   "metadata": {},
   "outputs": [],
   "source": [
    "# For categorical variables, fill nulls with 0 (1hot)\n",
    "num_pipeline = Pipeline([\n",
    "    [\"\"]\n",
    "])"
   ]
  }
 ],
 "metadata": {
  "kernelspec": {
   "display_name": ".venv",
   "language": "python",
   "name": "python3"
  },
  "language_info": {
   "codemirror_mode": {
    "name": "ipython",
    "version": 3
   },
   "file_extension": ".py",
   "mimetype": "text/x-python",
   "name": "python",
   "nbconvert_exporter": "python",
   "pygments_lexer": "ipython3",
   "version": "3.10.12"
  }
 },
 "nbformat": 4,
 "nbformat_minor": 2
}
